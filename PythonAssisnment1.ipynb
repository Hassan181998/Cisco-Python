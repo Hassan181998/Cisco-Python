{
  "nbformat": 4,
  "nbformat_minor": 0,
  "metadata": {
    "kernelspec": {
      "display_name": "Python 3",
      "language": "python",
      "name": "python3"
    },
    "language_info": {
      "codemirror_mode": {
        "name": "ipython",
        "version": 3
      },
      "file_extension": ".py",
      "mimetype": "text/x-python",
      "name": "python",
      "nbconvert_exporter": "python",
      "pygments_lexer": "ipython3",
      "version": "3.7.4"
    },
    "colab": {
      "name": "Python Assisnment 1.ipynb",
      "provenance": []
    }
  },
  "cells": [
    {
      "cell_type": "code",
      "metadata": {
        "id": "XUYB_VhxSWSo",
        "colab_type": "code",
        "colab": {},
        "outputId": "32d0f057-a214-47d8-dabf-30d8e8d04fab"
      },
      "source": [
        "# Task1 #  Write a Python Program to print the following string in a specific format.\n",
        "\n",
        "\"\"\"\n",
        "Twinkle, twinkle, little star, \n",
        "\tHow I wonder what you are! \n",
        "\t\tUp above the world so high, \n",
        "   Like a diamond in the sky. \n",
        "Twinkle, twinkle, little star, \n",
        "\tHow I wonder what you are!\n",
        "\"\"\"\n",
        "\n",
        "print(\"   Twinkle, twinkle, little star,\")\n",
        "print(\"\\tHow I wonder what you are!\")\n",
        "print(\"\\t   Up above the world so high,\")\n",
        "print(\"      Like a diamond in the sky.\")\n",
        "print(\"   Twinkle, twinkle, little star,\")\n",
        "print(\"\\tHow I wonder what you are\")"
      ],
      "execution_count": 0,
      "outputs": [
        {
          "output_type": "stream",
          "text": [
            "   Twinkle, twinkle, little star,\n",
            "\tHow I wonder what you are!\n",
            "\t   Up above the world so high,\n",
            "      Like a diamond in the sky.\n",
            "   Twinkle, twinkle, little star,\n",
            "\tHow I wonder what you are\n"
          ],
          "name": "stdout"
        }
      ]
    },
    {
      "cell_type": "code",
      "metadata": {
        "id": "BIyeht4NSWSx",
        "colab_type": "code",
        "colab": {},
        "outputId": "7a9ea814-1f81-4688-d4b3-0b4b272ed1fe"
      },
      "source": [
        "# Task 2 #  Write a program to get the Python version you are using.\n",
        "\n",
        "import sys\n",
        "\n",
        "print (\"Python version : \" + sys.version + \"\\nVersion Information : \",sys.version_info)"
      ],
      "execution_count": 0,
      "outputs": [
        {
          "output_type": "stream",
          "text": [
            "Python version : 3.7.4 (default, Aug  9 2019, 18:34:13) [MSC v.1915 64 bit (AMD64)]\n",
            "Version Information :  sys.version_info(major=3, minor=7, micro=4, releaselevel='final', serial=0)\n"
          ],
          "name": "stdout"
        }
      ]
    },
    {
      "cell_type": "code",
      "metadata": {
        "id": "H1YELq5eSWS0",
        "colab_type": "code",
        "colab": {},
        "outputId": "0c0a0de0-6070-4246-fbcb-9b50bf96117c"
      },
      "source": [
        "# Task 3 #  Write a Python program to display current date & time.\n",
        "\n",
        "import datetime\n",
        "\n",
        "print(str(datetime.datetime.now()))"
      ],
      "execution_count": 0,
      "outputs": [
        {
          "output_type": "stream",
          "text": [
            "2019-11-22 22:54:38.270679\n"
          ],
          "name": "stdout"
        }
      ]
    },
    {
      "cell_type": "code",
      "metadata": {
        "id": "wUgn_hYwSWS4",
        "colab_type": "code",
        "colab": {},
        "outputId": "06babc35-b289-4a97-8b66-0f984fb3a18f"
      },
      "source": [
        "# Task 4 #  Write a python program which accepts the radius of the circle and commute the area.\n",
        "\n",
        "Radius = float(input(\"Please input the radius of the circle : \"))\n",
        "Area = (22/7)*(Radius**2)\n",
        "print(\"\\nThe Area of the circle is : \",Area)"
      ],
      "execution_count": 0,
      "outputs": [
        {
          "output_type": "stream",
          "text": [
            "Please input the radius of the circle : 6\n",
            "\n",
            "The Area of the circle is :  113.14285714285714\n"
          ],
          "name": "stdout"
        }
      ]
    },
    {
      "cell_type": "code",
      "metadata": {
        "id": "INO0zfgaSWS7",
        "colab_type": "code",
        "colab": {
          "base_uri": "https://localhost:8080/",
          "height": 102
        },
        "outputId": "125f970b-d85a-46f5-e71d-59d8b717de50"
      },
      "source": [
        "# Task 5 #  Write a program which takes user's first & last name & print it them in reverse order with a space between them.\n",
        "\n",
        "FirstName = input(\"Your first name please : \")\n",
        "LastName = input(\"Your last name please : \")\n",
        "RealName = FirstName + \" \" + LastName\n",
        "ReverseName = LastName + \" \" + FirstName\n",
        "print(\"\\nReal name is : \" +RealName+ \"\\nReverse name is : \" +ReverseName)"
      ],
      "execution_count": 2,
      "outputs": [
        {
          "output_type": "stream",
          "text": [
            "Your first name please : Hassan Ali\n",
            "Your last name please : Akber\n",
            "\n",
            "Real name is : Hassan Ali Akber\n",
            "Reverse name is : Akber Hassan Ali\n"
          ],
          "name": "stdout"
        }
      ]
    },
    {
      "cell_type": "code",
      "metadata": {
        "id": "WuCXL72NSWS-",
        "colab_type": "code",
        "colab": {},
        "outputId": "3f9edb8b-5980-4761-f2e7-71c1c8a3fb6c"
      },
      "source": [
        "# Task 6 #  Write a python program which takes two inputs from user and print the in addition\n",
        "\n",
        "First_number = input(\"1st Number : \")\n",
        "Second_number = input(\"2nd Number : \")\n",
        "First_number = int(First_number)\n",
        "Second_number = int(Second_number)\n",
        "Addition = First_number + Second_number\n",
        "print(\"\\nThe sum is : \")\n",
        "Addition"
      ],
      "execution_count": 0,
      "outputs": [
        {
          "output_type": "stream",
          "text": [
            "1st Number : 3212\n",
            "2nd Number : 6744\n",
            "\n",
            "The sum is : \n"
          ],
          "name": "stdout"
        },
        {
          "output_type": "execute_result",
          "data": {
            "text/plain": [
              "9956"
            ]
          },
          "metadata": {
            "tags": []
          },
          "execution_count": 6
        }
      ]
    },
    {
      "cell_type": "code",
      "metadata": {
        "id": "mESlz7VkSWTC",
        "colab_type": "code",
        "colab": {}
      },
      "source": [
        ""
      ],
      "execution_count": 0,
      "outputs": []
    }
  ]
}