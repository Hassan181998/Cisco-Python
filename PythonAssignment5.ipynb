{
  "nbformat": 4,
  "nbformat_minor": 0,
  "metadata": {
    "kernelspec": {
      "display_name": "Python 3",
      "language": "python",
      "name": "python3"
    },
    "language_info": {
      "codemirror_mode": {
        "name": "ipython",
        "version": 3
      },
      "file_extension": ".py",
      "mimetype": "text/x-python",
      "name": "python",
      "nbconvert_exporter": "python",
      "pygments_lexer": "ipython3",
      "version": "3.7.4"
    },
    "colab": {
      "name": "Python Assignment 5.ipynb",
      "provenance": [],
      "include_colab_link": true
    }
  },
  "cells": [
    {
      "cell_type": "markdown",
      "metadata": {
        "id": "view-in-github",
        "colab_type": "text"
      },
      "source": [
        "<a href=\"https://colab.research.google.com/github/Hassan181998/Cisco-Python/blob/master/PythonAssignment5.ipynb\" target=\"_parent\"><img src=\"https://colab.research.google.com/assets/colab-badge.svg\" alt=\"Open In Colab\"/></a>"
      ]
    },
    {
      "cell_type": "code",
      "metadata": {
        "id": "t2FFaKv9hv54",
        "colab_type": "code",
        "colab": {},
        "outputId": "929e0813-b8aa-43bf-abda-d96c9223ec06"
      },
      "source": [
        "num= input(\"Enter Value to find Factorial:\");\n",
        "num=int(num);\n",
        "def Factorial(num):\n",
        "    f=1;\n",
        "    if num<1:\n",
        "        print(\"please enter value that is greater then one\");\n",
        "    elif num>=1:\n",
        "        for i in range(1,num+1):\n",
        "            f=f*i;\n",
        "        print(\"Factorial of a\", num , \"=\", f);\n",
        "    else:\n",
        "        print(\"Invalid Value Enter\");\n",
        "Factorial(num);"
      ],
      "execution_count": 0,
      "outputs": [
        {
          "output_type": "stream",
          "text": [
            "Enter Value to find Factorial:5\n",
            "Factorial of a 5 = 120\n"
          ],
          "name": "stdout"
        }
      ]
    },
    {
      "cell_type": "code",
      "metadata": {
        "id": "rV5HOSAChv5_",
        "colab_type": "code",
        "colab": {},
        "outputId": "89c1b04d-30fa-4a7b-ae34-9056909c3b6a"
      },
      "source": [
        "#Count upper case and lower case by fuction\n",
        "\n",
        "def CountUpperLower(stns):\n",
        "    upper=0;\n",
        "    lower=0;\n",
        "    for i in stns:\n",
        "        if i>=\"A\" and i<=\"Z\":\n",
        "            upper +=1;\n",
        "        elif i>=\"a\" and i<=\"z\":\n",
        "            lower +=1;\n",
        "    print(\"Upper case\",upper);\n",
        "    print(\"Lower case\", lower);\n",
        "\n",
        "stns = input(\"Enter String:\");\n",
        "CountUpperLower(stns);"
      ],
      "execution_count": 0,
      "outputs": [
        {
          "output_type": "stream",
          "text": [
            "Enter String:I am hero\n",
            "Upper case 1\n",
            "Lower case 6\n"
          ],
          "name": "stdout"
        }
      ]
    },
    {
      "cell_type": "code",
      "metadata": {
        "id": "FOQNa8p1hv6D",
        "colab_type": "code",
        "colab": {},
        "outputId": "31552618-928d-4f6b-ab70-a1b25894fa55"
      },
      "source": [
        "List = [];\n",
        "n = int(input(\"Enter number of element you want to enter\"));\n",
        "for i in range(0, n):\n",
        "    num= int(input());\n",
        "    List.append(num)\n",
        "#print(List);\n",
        "def EvenNum(List):\n",
        "    for num in List:\n",
        "        if num % 2==0:  \n",
        "            print(num, end =\", \");\n",
        "EvenNum(List);"
      ],
      "execution_count": 0,
      "outputs": [
        {
          "output_type": "stream",
          "text": [
            "Enter number of element you want to enter2\n",
            "4\n",
            "8\n",
            "4, 8, "
          ],
          "name": "stdout"
        }
      ]
    },
    {
      "cell_type": "code",
      "metadata": {
        "id": "yZsTibqPhv6G",
        "colab_type": "code",
        "colab": {},
        "outputId": "b58c7ed5-6567-42f9-ceb4-1cbf2cac4589"
      },
      "source": [
        "num = int(input(\"Enter num to check it is prime or not: \"));\n",
        "def checkPrime(num):\n",
        "    if num>1:\n",
        "        for i in range(2,num//2):\n",
        "            if(num % i)==0:\n",
        "                print(num, \" is not a prime\");\n",
        "                break;\n",
        "            else:\n",
        "                print(num, \"is a prime number \");\n",
        "    else:\n",
        "        print(num, \"is not a prime number\");\n",
        "\n",
        "checkPrime(num);"
      ],
      "execution_count": 0,
      "outputs": [
        {
          "output_type": "stream",
          "text": [
            "Enter num to check it is prime or not: 7\n",
            "7 is a prime number \n"
          ],
          "name": "stdout"
        }
      ]
    },
    {
      "cell_type": "code",
      "metadata": {
        "id": "w-ceK_A7hv6M",
        "colab_type": "code",
        "colab": {},
        "outputId": "67268eb7-7173-49aa-eb13-31282026d823"
      },
      "source": [
        "def checkPaln(string):\n",
        "    if(string==string[::-1]):\n",
        "        print(\"The string is a palindrome\")\n",
        "    else:\n",
        "        print(\"Not a palindrome\")\n",
        "string= input(\"Etner word to check is it Palindrome: \");\n",
        "checkPaln(string)"
      ],
      "execution_count": 0,
      "outputs": [
        {
          "output_type": "stream",
          "text": [
            "Etner word to check is it Palindrome: madam\n",
            "The string is a palindrome\n"
          ],
          "name": "stdout"
        }
      ]
    },
    {
      "cell_type": "code",
      "metadata": {
        "id": "T99S6FoMhv6P",
        "colab_type": "code",
        "colab": {}
      },
      "source": [
        ""
      ],
      "execution_count": 0,
      "outputs": []
    }
  ]
}