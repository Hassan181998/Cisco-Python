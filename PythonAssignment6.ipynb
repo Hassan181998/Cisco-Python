{
  "nbformat": 4,
  "nbformat_minor": 0,
  "metadata": {
    "kernelspec": {
      "display_name": "Python 3",
      "language": "python",
      "name": "python3"
    },
    "language_info": {
      "codemirror_mode": {
        "name": "ipython",
        "version": 3
      },
      "file_extension": ".py",
      "mimetype": "text/x-python",
      "name": "python",
      "nbconvert_exporter": "python",
      "pygments_lexer": "ipython3",
      "version": "3.7.4"
    },
    "colab": {
      "name": "Python Assignment 6.ipynb",
      "provenance": [],
      "include_colab_link": true
    }
  },
  "cells": [
    {
      "cell_type": "markdown",
      "metadata": {
        "id": "view-in-github",
        "colab_type": "text"
      },
      "source": [
        "<a href=\"https://colab.research.google.com/github/Hassan181998/Cisco-Python/blob/master/PythonAssignment6.ipynb\" target=\"_parent\"><img src=\"https://colab.research.google.com/assets/colab-badge.svg\" alt=\"Open In Colab\"/></a>"
      ]
    },
    {
      "cell_type": "markdown",
      "metadata": {
        "id": "5vtOnHUpiADa",
        "colab_type": "text"
      },
      "source": [
        "# Question 1:\n",
        "\n",
        "Define Object Oriented Programming Language? Answer: Object Oriented Programming Language refers to a type of computer programming in which programmers define not only the data type of a data structure, but also the types of operations that can be applied to the data structure. It help to reduce the complexity and also improve the maintainability of the system. When combined with the concepts of the Encapsulation and Polymorphism, Abstraction gives more power to the OPP languages."
      ]
    },
    {
      "cell_type": "markdown",
      "metadata": {
        "id": "BikXQeEXiADe",
        "colab_type": "text"
      },
      "source": [
        "# Question 2:\n",
        "\n",
        "List down the Benefits of OOP? Answer: It provides a clear modular structure for programs which makes it goot for defining abstract datatypes in which implementation details are hidden. Objects can also be reused within an across apllications. The resue of software also lowers the cost of development."
      ]
    },
    {
      "cell_type": "markdown",
      "metadata": {
        "id": "1_0fCrkjiADf",
        "colab_type": "text"
      },
      "source": [
        "# Question 3:\n",
        "\n",
        "Differentiate between function and method? Answer: A function is a piece of code that is called by name. A method is piece3 of code that is called by a anme that is associated with an object. In most respects it is identical to a function except for two key differences. Amethod is implicitly passed the object on which it was called."
      ]
    },
    {
      "cell_type": "markdown",
      "metadata": {
        "id": "iQ6HaBjviADg",
        "colab_type": "text"
      },
      "source": [
        "# Question 4:\n",
        "\n",
        "Define the following terms: 1. Class 2. Object 3. Attribute 4. Behavior Answer:\n",
        "\n",
        "1. Class\n",
        "     Class is a blueprint of an object. The class defines all the common properties of the different objects that belong to it.\n",
        "2. Object\n",
        "     Object is a self-contained entity that consistes of both data and procedures to manipulate the data.\n",
        "3. Attribute\n",
        "     An Attribute is a named property of a class. It has a type. It describe the range of values that property may hold. Attribe may be Name, Location, Datys Offered and Credit Hours.\n",
        "4. Behavior\n",
        "     Behavior are the tasks that an object performs. A person behavior, for example, include the fact that a person can speak, run, walk and eat."
      ]
    },
    {
      "cell_type": "markdown",
      "metadata": {
        "id": "NoQthOxfiADh",
        "colab_type": "text"
      },
      "source": [
        "# Question 5:\n",
        "\n",
        "Write a code in python in which create a class named it Car which have 5 attributes such like (model, color and name etc.) and 3 methods. And create 5 object instance from that class."
      ]
    },
    {
      "cell_type": "code",
      "metadata": {
        "id": "Qu4NAEcyiADi",
        "colab_type": "code",
        "colab": {}
      },
      "source": [
        "class Car:\n",
        "    def __init__(self,name,model,color,power,speed):\n",
        "        self.name=name\n",
        "        self.model=model\n",
        "        self.color=color\n",
        "        self.power=power\n",
        "        self.speed=speed\n",
        "    def accelarate(self):\n",
        "        self.speed+=5\n",
        "    def brake(self):\n",
        "        self.speed-=5\n",
        "    def get_speed(self):\n",
        "        return self.speed\n",
        "list=[]\n",
        "while(True):   \n",
        "    name=input(\"Car Name: \")\n",
        "    model=int(input(\"Car Model: \"))\n",
        "    color=input(\"Car Color: \")\n",
        "    power=input(\"Car Power: \")\n",
        "    speed=0;\n",
        "    list.append(Car(name,model,color,power,speed))\n",
        "    flag=False\n",
        "    flag=int(input(\"Enter more object(1/0): \"))\n",
        "    if(flag==0):\n",
        "        break\n",
        "print(\"Total Objects: \"+str(len(list)))\n",
        "list[0].accelarate()\n",
        "list[0].accelarate()\n",
        "print(\"Current Speed of \"+str(list[0].name)+\" after accelarate: \"+str(list[0].get_speed()))\n",
        "list[2].accelarate()\n",
        "print(\"Current Speed of \"+str(list[2].name)+\" after accelarate: \"+str(list[2].get_speed()))\n",
        "list[1].accelarate()\n",
        "print(\"Current Speed of \"+str(list[1].name)+\" after accelarate: \"+str(list[1].get_speed()))\n",
        "list[4].accelarate()\n",
        "print(\"Current Speed of \"+str(list[4].name)+\" after accelarate: \"+str(list[4].get_speed()))\n",
        "list[1].brake()\n",
        "print(\"Current Speed of \"+str(list[1].name)+\" after brake: \"+str(list[1].get_speed()))"
      ],
      "execution_count": 0,
      "outputs": []
    }
  ]
}